{
 "cells": [
  {
   "cell_type": "markdown",
   "id": "e0bb9f9f",
   "metadata": {},
   "source": [
    "# Data Science Tools and Ecosystem"
   ]
  },
  {
   "cell_type": "markdown",
   "id": "c0be5a3d",
   "metadata": {},
   "source": [
    "# In this notebook,Data Science Tools and Ecosystem are summarized."
   ]
  },
  {
   "cell_type": "markdown",
   "id": "58a20323",
   "metadata": {},
   "source": [
    " **Objectives:** \n",
    " List popular languages for Data Science\n",
    "- Pyhton\n",
    "- R\n",
    "- Java"
   ]
  },
  {
   "cell_type": "markdown",
   "id": "e9c55f46",
   "metadata": {},
   "source": [
    "# Some of the popular languages that Data Scientists use are"
   ]
  },
  {
   "cell_type": "markdown",
   "id": "b0147342",
   "metadata": {},
   "source": [
    "# 1. Python\n",
    "# 2. R\n",
    "# 3. Java"
   ]
  },
  {
   "cell_type": "markdown",
   "id": "ca85418a",
   "metadata": {},
   "source": [
    "# Some of the commonly used libraries used by Data Scientists include:\n",
    "## 1. Numpy\n",
    "## 2. Scipy\n",
    "## 3. Pandas"
   ]
  },
  {
   "cell_type": "markdown",
   "id": "52affa00",
   "metadata": {},
   "source": [
    "# Below are Data Science Tools\n",
    "\n",
    "|Data sceince Tools|\n",
    "|------------------|\n",
    "|RStudio|\n",
    "|Apache Spark|\n",
    "|Tensor flow|"
   ]
  },
  {
   "cell_type": "markdown",
   "id": "f08535e1",
   "metadata": {},
   "source": [
    "### Below are a few examples of evaluating arithmetic expressions in Python"
   ]
  },
  {
   "cell_type": "markdown",
   "id": "155970f0",
   "metadata": {},
   "source": [
    "####  This a simple arithmetic expression to mutiply then add integers"
   ]
  },
  {
   "cell_type": "code",
   "execution_count": 1,
   "id": "02be7ace",
   "metadata": {},
   "outputs": [
    {
     "name": "stdout",
     "output_type": "stream",
     "text": [
      "17\n"
     ]
    }
   ],
   "source": [
    "print((3*4)+5)"
   ]
  },
  {
   "cell_type": "markdown",
   "id": "d8f11a30",
   "metadata": {},
   "source": [
    "### This will convert 200 minutes to hours by diving by 60"
   ]
  },
  {
   "cell_type": "code",
   "execution_count": 2,
   "id": "73299522",
   "metadata": {},
   "outputs": [
    {
     "name": "stdout",
     "output_type": "stream",
     "text": [
      "3.3333333333333335\n"
     ]
    }
   ],
   "source": [
    "print(200/60)"
   ]
  },
  {
   "cell_type": "markdown",
   "id": "08a8d81c",
   "metadata": {},
   "source": [
    "## Author\n",
    "Anshul"
   ]
  }
 ],
 "metadata": {
  "kernelspec": {
   "display_name": "Python 3 (ipykernel)",
   "language": "python",
   "name": "python3"
  },
  "language_info": {
   "codemirror_mode": {
    "name": "ipython",
    "version": 3
   },
   "file_extension": ".py",
   "mimetype": "text/x-python",
   "name": "python",
   "nbconvert_exporter": "python",
   "pygments_lexer": "ipython3",
   "version": "3.10.9"
  }
 },
 "nbformat": 4,
 "nbformat_minor": 5
}
